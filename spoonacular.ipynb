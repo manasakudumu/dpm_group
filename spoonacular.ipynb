{
 "cells": [
  {
   "cell_type": "markdown",
   "metadata": {},
   "source": [
    "### Spoonacular tutorial"
   ]
  },
  {
   "cell_type": "code",
   "execution_count": 12,
   "metadata": {},
   "outputs": [],
   "source": [
    "import requests"
   ]
  },
  {
   "cell_type": "code",
   "execution_count": 13,
   "metadata": {},
   "outputs": [],
   "source": [
    "base_url = 'https://api.spoonacular.com/recipes/complexSearch'\n",
    "ingredients_url = 'https://api.spoonacular.com/recipes/findByIngredients'\n",
    "recipe_info_url = 'https://api.spoonacular.com/recipes/{}/information'\n",
    "api_key = '658bb386507f456491e6fcc6d3dec5d8'"
   ]
  },
  {
   "cell_type": "code",
   "execution_count": 14,
   "metadata": {},
   "outputs": [],
   "source": [
    "query_params = {\n",
    " 'query': 'pasta',\n",
    " 'maxFat': '25',\n",
    " 'number': '2',\n",
    " 'apiKey': api_key\n",
    "}"
   ]
  },
  {
   "cell_type": "code",
   "execution_count": 15,
   "metadata": {},
   "outputs": [],
   "source": [
    "response = requests.get(base_url, params=query_params)\n",
    "response.raise_for_status()\n",
    "data = response.json()"
   ]
  },
  {
   "cell_type": "code",
   "execution_count": 16,
   "metadata": {},
   "outputs": [
    {
     "name": "stdout",
     "output_type": "stream",
     "text": [
      "Title: Farfalle with Peas, Ham and Cream\n",
      "Title: Shrimp, Bacon, Avocado Pasta Salad\n",
      "Ingredients:\n"
     ]
    }
   ],
   "source": [
    "recipes = data['results']\n",
    "for recipe in recipes:\n",
    "    print(\"Title:\", recipe['title'])\n",
    "    recipe_id = recipe['id']\n",
    "ingredients_params = {\n",
    " 'apiKey': api_key,\n",
    " }\n",
    "ingredients_response = requests.get(ingredients_url, params=ingredients_params)\n",
    "ingredients_response.raise_for_status()\n",
    "ingredients_data = ingredients_response.json()\n",
    "print(\"Ingredients:\")\n",
    "for ingredient in ingredients_data:\n",
    "    print(ingredient['name'], ingredient['amount'], ingredient['unit'])"
   ]
  },
  {
   "cell_type": "code",
   "execution_count": 17,
   "metadata": {},
   "outputs": [
    {
     "name": "stdout",
     "output_type": "stream",
     "text": [
      "Additional Information:\n",
      "Servings: 4\n",
      "Preparation Time: 45\n"
     ]
    }
   ],
   "source": [
    "recipe_info_response = requests.get(recipe_info_url.format(recipe_id), params=ingredients_params)\n",
    "recipe_info_response.raise_for_status()\n",
    "recipe_info_data = recipe_info_response.json()\n",
    "print(\"Additional Information:\")\n",
    "print(\"Servings:\", recipe_info_data['servings'])\n",
    "print(\"Preparation Time:\", recipe_info_data['readyInMinutes'])"
   ]
  },
  {
   "cell_type": "markdown",
   "metadata": {},
   "source": [
    "### Wellesley Fresh API\n"
   ]
  },
  {
   "cell_type": "code",
   "execution_count": 18,
   "metadata": {},
   "outputs": [],
   "source": [
    "wellesley_api_url = \"https://dish.avifoodsystems.com/api/menu-items/week\"\n",
    "params = {\n",
    "    \"date\": \"2/20/2025\",  \n",
    "    \"locationId\": 96,  \n",
    "    \"mealId\": 148  \n",
    "}\n",
    "response = requests.get(wellesley_api_url, params=params)\n",
    "response.raise_for_status()\n",
    "data = response.json()"
   ]
  },
  {
   "cell_type": "markdown",
   "metadata": {},
   "source": [
    "Due to completing my 10 hours already, I was not able to fully implement the automated comparison between the Wellesley Fresh Menu API and Spoonacular API, however I did manually look through the data to eyeball an insight.\n",
    "\n",
    "Findings:\n",
    "1. Spoonacular values were slightly higher for some dishes (Turkey Sandwich, Stir Fry), probably due to different ingredient and portion size assumptions.\n",
    "2. Most values were close but Spoonacular had slightly higher fat content\n",
    "3. Different oil, cheese, or other choices can cause these discrepancies in fat or carb content.\n",
    "\n",
    "\n"
   ]
  }
 ],
 "metadata": {
  "kernelspec": {
   "display_name": "Python 3",
   "language": "python",
   "name": "python3"
  },
  "language_info": {
   "codemirror_mode": {
    "name": "ipython",
    "version": 3
   },
   "file_extension": ".py",
   "mimetype": "text/x-python",
   "name": "python",
   "nbconvert_exporter": "python",
   "pygments_lexer": "ipython3",
   "version": "3.13.1"
  }
 },
 "nbformat": 4,
 "nbformat_minor": 2
}
